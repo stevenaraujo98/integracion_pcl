{
 "cells": [
  {
   "cell_type": "code",
   "execution_count": 86,
   "metadata": {},
   "outputs": [],
   "source": [
    "from ultralytics import YOLO\n",
    "import matplotlib.pyplot as plt\n",
    "import cv2\n",
    "import glob"
   ]
  },
  {
   "cell_type": "code",
   "execution_count": 87,
   "metadata": {},
   "outputs": [],
   "source": [
    "# Load a model\n",
    "model = YOLO(\"./models/detect-shape.pt\")"
   ]
  },
  {
   "cell_type": "code",
   "execution_count": 88,
   "metadata": {},
   "outputs": [],
   "source": [
    "images = glob.glob(\"images/shape/gray_image_16_35_42_26_02_2024_VID_*.jpg\")\n",
    "images = sorted(images, reverse=True)\n",
    "# images = images[1:14]\n",
    "images = images[14:]\n",
    "imgs = [ cv2.imread(i) for i in images ]"
   ]
  },
  {
   "cell_type": "code",
   "execution_count": 89,
   "metadata": {},
   "outputs": [
    {
     "data": {
      "text/plain": [
       "['images/shape/gray_image_16_35_42_26_02_2024_VID_1100.jpg',\n",
       " 'images/shape/gray_image_16_35_42_26_02_2024_VID_1090.jpg',\n",
       " 'images/shape/gray_image_16_35_42_26_02_2024_VID_1080.jpg',\n",
       " 'images/shape/gray_image_16_35_42_26_02_2024_VID_1070.jpg',\n",
       " 'images/shape/gray_image_16_35_42_26_02_2024_VID_1060.jpg',\n",
       " 'images/shape/gray_image_16_35_42_26_02_2024_VID_1050.jpg',\n",
       " 'images/shape/gray_image_16_35_42_26_02_2024_VID_1040.jpg',\n",
       " 'images/shape/gray_image_16_35_42_26_02_2024_VID_1030.jpg',\n",
       " 'images/shape/gray_image_16_35_42_26_02_2024_VID_1020.jpg',\n",
       " 'images/shape/gray_image_16_35_42_26_02_2024_VID_1010.jpg',\n",
       " 'images/shape/gray_image_16_35_42_26_02_2024_VID_1000.jpg']"
      ]
     },
     "execution_count": 89,
     "metadata": {},
     "output_type": "execute_result"
    }
   ],
   "source": [
    "images"
   ]
  },
  {
   "cell_type": "code",
   "execution_count": 90,
   "metadata": {},
   "outputs": [
    {
     "data": {
      "image/png": "[encoded data removed]",
      "text/plain": [
       "<Figure size 640x480 with 1 Axes>"
      ]
     },
     "metadata": {},
     "output_type": "display_data"
    }
   ],
   "source": [
    "img_selected = 2\n",
    "\n",
    "plt.imshow(imgs[img_selected])\n",
    "# plt.axis('off')\n",
    "plt.show()"
   ]
  },
  {
   "cell_type": "code",
   "execution_count": 91,
   "metadata": {},
   "outputs": [
    {
     "name": "stdout",
     "output_type": "stream",
     "text": [
      "\n",
      "0: 256x256 i 1.00, l 0.00, c 0.00, 6.9ms\n",
      "Speed: 9.0ms preprocess, 6.9ms inference, 0.1ms postprocess per image at shape (1, 3, 256, 256)\n",
      "Letra detectada: i confianza: 100.0\n",
      "\n",
      "0: 256x256 i 1.00, l 0.00, c 0.00, 5.7ms\n",
      "Speed: 7.5ms preprocess, 5.7ms inference, 0.0ms postprocess per image at shape (1, 3, 256, 256)\n",
      "Letra detectada: i confianza: 100.0\n",
      "\n",
      "0: 256x256 i 1.00, l 0.00, c 0.00, 7.7ms\n",
      "Speed: 9.7ms preprocess, 7.7ms inference, 0.1ms postprocess per image at shape (1, 3, 256, 256)\n",
      "Letra detectada: i confianza: 100.0\n",
      "\n",
      "0: 256x256 i 1.00, l 0.00, c 0.00, 5.3ms\n",
      "Speed: 9.4ms preprocess, 5.3ms inference, 0.0ms postprocess per image at shape (1, 3, 256, 256)\n",
      "Letra detectada: i confianza: 99.99029636383057\n",
      "\n",
      "0: 256x256 i 1.00, l 0.00, c 0.00, 5.5ms\n",
      "Speed: 8.8ms preprocess, 5.5ms inference, 0.0ms postprocess per image at shape (1, 3, 256, 256)\n",
      "Letra detectada: i confianza: 99.97777342796326\n",
      "\n",
      "0: 256x256 i 1.00, l 0.00, c 0.00, 3.7ms\n",
      "Speed: 5.8ms preprocess, 3.7ms inference, 0.0ms postprocess per image at shape (1, 3, 256, 256)\n",
      "Letra detectada: i confianza: 99.70705509185791\n",
      "\n",
      "0: 256x256 i 1.00, l 0.00, c 0.00, 6.0ms\n",
      "Speed: 8.4ms preprocess, 6.0ms inference, 0.1ms postprocess per image at shape (1, 3, 256, 256)\n",
      "Letra detectada: i confianza: 99.99974966049194\n",
      "\n",
      "0: 256x256 i 1.00, l 0.00, c 0.00, 4.5ms\n",
      "Speed: 6.2ms preprocess, 4.5ms inference, 0.0ms postprocess per image at shape (1, 3, 256, 256)\n",
      "Letra detectada: i confianza: 100.0\n",
      "\n",
      "0: 256x256 i 1.00, l 0.00, c 0.00, 4.8ms\n",
      "Speed: 7.2ms preprocess, 4.8ms inference, 0.1ms postprocess per image at shape (1, 3, 256, 256)\n",
      "Letra detectada: i confianza: 100.0\n",
      "\n",
      "0: 256x256 i 1.00, l 0.00, c 0.00, 6.4ms\n",
      "Speed: 7.6ms preprocess, 6.4ms inference, 0.1ms postprocess per image at shape (1, 3, 256, 256)\n",
      "Letra detectada: i confianza: 100.0\n",
      "\n",
      "0: 256x256 i 1.00, l 0.00, c 0.00, 6.0ms\n",
      "Speed: 9.9ms preprocess, 6.0ms inference, 0.1ms postprocess per image at shape (1, 3, 256, 256)\n",
      "Letra detectada: i confianza: 100.0\n"
     ]
    }
   ],
   "source": [
    "for img in imgs:\n",
    "    res = model(img)\n",
    "    print(\"Letra detectada: \" +  res[0].names[res[0].probs.top1] + \" confianza: \" + str(res[0].probs.top1conf.item() * 100))"
   ]
  },
  {
   "cell_type": "code",
   "execution_count": 92,
   "metadata": {},
   "outputs": [
    {
     "name": "stdout",
     "output_type": "stream",
     "text": [
      "\n",
      "0: 256x256 i 1.00, l 0.00, c 0.00, 9.1ms\n",
      "Speed: 9.1ms preprocess, 9.1ms inference, 0.1ms postprocess per image at shape (1, 3, 256, 256)\n"
     ]
    },
    {
     "data": {
      "text/plain": [
       "'Letra detectada: i confianza: 100.0'"
      ]
     },
     "execution_count": 92,
     "metadata": {},
     "output_type": "execute_result"
    }
   ],
   "source": [
    "res = model(imgs[img_selected])\n",
    "\"Letra detectada: \" +  res[0].names[res[0].probs.top1] + \" confianza: \" + str(res[0].probs.top1conf.item() * 100)"
   ]
  },
  {
   "cell_type": "code",
   "execution_count": 93,
   "metadata": {},
   "outputs": [
    {
     "data": {
      "text/plain": [
       "(1,\n",
       " tensor(1., device='cuda:0'),\n",
       " [1, 2, 0],\n",
       " tensor([1.0000e+00, 7.5651e-09, 3.4692e-10], device='cuda:0'))"
      ]
     },
     "execution_count": 93,
     "metadata": {},
     "output_type": "execute_result"
    }
   ],
   "source": [
    "res[0].probs.top1, res[0].probs.top1conf, res[0].probs.top5, res[0].probs.top5conf"
   ]
  },
  {
   "cell_type": "code",
   "execution_count": 94,
   "metadata": {},
   "outputs": [
    {
     "data": {
      "text/plain": [
       "{0: 'c', 1: 'i', 2: 'l'}"
      ]
     },
     "execution_count": 94,
     "metadata": {},
     "output_type": "execute_result"
    }
   ],
   "source": [
    "res[0].names"
   ]
  }
 ],
 "metadata": {
  "kernelspec": {
   "display_name": "Python 3",
   "language": "python",
   "name": "python3"
  },
  "language_info": {
   "codemirror_mode": {
    "name": "ipython",
    "version": 3
   },
   "file_extension": ".py",
   "mimetype": "text/x-python",
   "name": "python",
   "nbconvert_exporter": "python",
   "pygments_lexer": "ipython3",
   "version": "3.10.12"
  }
 },
 "nbformat": 4,
 "nbformat_minor": 2
}
